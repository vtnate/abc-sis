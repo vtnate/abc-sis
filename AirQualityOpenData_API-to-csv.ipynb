{
 "cells": [
  {
   "cell_type": "markdown",
   "id": "a92a8abf-3050-4bd0-90d6-0b0e5ed97f4b",
   "metadata": {},
   "source": [
    "# API request and csv appender for IQAir data"
   ]
  },
  {
   "cell_type": "code",
   "execution_count": 2,
   "id": "dd694449-a398-40a1-9c27-78695b8e03cc",
   "metadata": {},
   "outputs": [],
   "source": [
    "import pandas as pd\n",
    "import requests\n",
    "import json\n",
    "import csv\n",
    "from datetime import datetime, timedelta\n",
    "import numpy as np\n",
    "import matplotlib.dates as mdates\n",
    "from matplotlib.dates import DateFormatter"
   ]
  },
  {
   "cell_type": "markdown",
   "id": "a5ae2290-e40c-4671-9eae-4df0cae666c4",
   "metadata": {},
   "source": [
    "Notes on data:\n",
    "- The PM2.5 number is actually the \"Now Cast\" (https://en.wikipedia.org/wiki/NowCast_(air_quality_index)), which is calculated based on the last 12 hours of PM2.5 concentrations, weighting recent concentrations more heavily. It is not really possible to back-calculate PM2.5 concentration from Now Cast values because there are so many inputs (12 hours' worth).\n",
    "- Source on this data: https://aqicn.org/faq/2015-03-15/air-quality-nowcast-a-beginners-guide/"
   ]
  },
  {
   "cell_type": "code",
   "execution_count": 3,
   "id": "e62e2f6b-dce2-42c3-9142-b093fd3b5d31",
   "metadata": {},
   "outputs": [
    {
     "name": "stdout",
     "output_type": "stream",
     "text": [
      "200\n"
     ]
    }
   ],
   "source": [
    "# API pulls from https://aqicn.org/city/utah/salt-lake-city\n",
    "response = requests.get(f'http://api.waqi.info/feed/@4469/?token=dae62b01eb4dfedf1f19937d2c3bedef664c4805')\n",
    "print(response.status_code)"
   ]
  },
  {
   "cell_type": "code",
   "execution_count": 4,
   "id": "a825e805-1b29-4357-aa20-0d52445574f1",
   "metadata": {},
   "outputs": [],
   "source": [
    "data = response.text"
   ]
  },
  {
   "cell_type": "code",
   "execution_count": 5,
   "id": "26cf075b-ca13-465b-aa56-46fdc706dd31",
   "metadata": {},
   "outputs": [],
   "source": [
    "json_response = json.loads(data)"
   ]
  },
  {
   "cell_type": "code",
   "execution_count": 6,
   "id": "98524046-649f-4f3d-a034-ee633c631a42",
   "metadata": {},
   "outputs": [
    {
     "data": {
      "text/plain": [
       "{'status': 'ok',\n",
       " 'data': {'aqi': 34,\n",
       "  'idx': 4469,\n",
       "  'attributions': [{'url': 'https://deq.utah.gov/division-air-quality',\n",
       "    'name': 'UTAH department of environmental quality',\n",
       "    'logo': 'US-UtahDEQ.png'},\n",
       "   {'url': 'https://waqi.info/', 'name': 'World Air Quality Index Project'}],\n",
       "  'city': {'geo': [40.733501, -111.871696],\n",
       "   'name': 'Salt Lake City, Utah',\n",
       "   'url': 'https://aqicn.org/city/utah/salt-lake-city',\n",
       "   'location': ''},\n",
       "  'dominentpol': 'o3',\n",
       "  'iaqi': {'co': {'v': 0.4},\n",
       "   'h': {'v': 44},\n",
       "   'no2': {'v': 3.8},\n",
       "   'o3': {'v': 34.4},\n",
       "   'p': {'v': 1013.6},\n",
       "   'pm25': {'v': 21},\n",
       "   't': {'v': 6.66667},\n",
       "   'w': {'v': 1.6},\n",
       "   'wg': {'v': 5.3}},\n",
       "  'time': {'s': '2025-10-17 17:00:00',\n",
       "   'tz': '-06:00',\n",
       "   'v': 1760720400,\n",
       "   'iso': '2025-10-17T17:00:00-06:00'},\n",
       "  'forecast': {'daily': {'pm10': [{'avg': 5,\n",
       "      'day': '2025-10-15',\n",
       "      'max': 5,\n",
       "      'min': 5},\n",
       "     {'avg': 8, 'day': '2025-10-16', 'max': 14, 'min': 4},\n",
       "     {'avg': 18, 'day': '2025-10-17', 'max': 24, 'min': 12},\n",
       "     {'avg': 18, 'day': '2025-10-18', 'max': 21, 'min': 15},\n",
       "     {'avg': 13, 'day': '2025-10-19', 'max': 19, 'min': 10},\n",
       "     {'avg': 13, 'day': '2025-10-20', 'max': 16, 'min': 7},\n",
       "     {'avg': 18, 'day': '2025-10-21', 'max': 29, 'min': 8},\n",
       "     {'avg': 24, 'day': '2025-10-22', 'max': 30, 'min': 21}],\n",
       "    'pm25': [{'avg': 8, 'day': '2025-10-15', 'max': 8, 'min': 7},\n",
       "     {'avg': 17, 'day': '2025-10-16', 'max': 32, 'min': 8},\n",
       "     {'avg': 34, 'day': '2025-10-17', 'max': 58, 'min': 22},\n",
       "     {'avg': 31, 'day': '2025-10-18', 'max': 40, 'min': 25},\n",
       "     {'avg': 23, 'day': '2025-10-19', 'max': 32, 'min': 17},\n",
       "     {'avg': 21, 'day': '2025-10-20', 'max': 26, 'min': 14},\n",
       "     {'avg': 45, 'day': '2025-10-21', 'max': 75, 'min': 18},\n",
       "     {'avg': 60, 'day': '2025-10-22', 'max': 72, 'min': 56}],\n",
       "    'uvi': [{'avg': 0, 'day': '2025-10-15', 'max': 2, 'min': 0},\n",
       "     {'avg': 0, 'day': '2025-10-16', 'max': 3, 'min': 0},\n",
       "     {'avg': 0, 'day': '2025-10-17', 'max': 5, 'min': 0},\n",
       "     {'avg': 0, 'day': '2025-10-18', 'max': 5, 'min': 0},\n",
       "     {'avg': 1, 'day': '2025-10-19', 'max': 5, 'min': 0}]}},\n",
       "  'debug': {'sync': '2025-10-18T08:43:52+09:00'}}}"
      ]
     },
     "execution_count": 6,
     "metadata": {},
     "output_type": "execute_result"
    }
   ],
   "source": [
    "json_response"
   ]
  },
  {
   "cell_type": "code",
   "execution_count": 7,
   "id": "01477428-b743-4bd1-acaf-499824df0ff9",
   "metadata": {},
   "outputs": [
    {
     "data": {
      "text/plain": [
       "{'aqi': 34,\n",
       " 'idx': 4469,\n",
       " 'attributions': [{'url': 'https://deq.utah.gov/division-air-quality',\n",
       "   'name': 'UTAH department of environmental quality',\n",
       "   'logo': 'US-UtahDEQ.png'},\n",
       "  {'url': 'https://waqi.info/', 'name': 'World Air Quality Index Project'}],\n",
       " 'city': {'geo': [40.733501, -111.871696],\n",
       "  'name': 'Salt Lake City, Utah',\n",
       "  'url': 'https://aqicn.org/city/utah/salt-lake-city',\n",
       "  'location': ''},\n",
       " 'dominentpol': 'o3',\n",
       " 'iaqi': {'co': {'v': 0.4},\n",
       "  'h': {'v': 44},\n",
       "  'no2': {'v': 3.8},\n",
       "  'o3': {'v': 34.4},\n",
       "  'p': {'v': 1013.6},\n",
       "  'pm25': {'v': 21},\n",
       "  't': {'v': 6.66667},\n",
       "  'w': {'v': 1.6},\n",
       "  'wg': {'v': 5.3}},\n",
       " 'time': {'s': '2025-10-17 17:00:00',\n",
       "  'tz': '-06:00',\n",
       "  'v': 1760720400,\n",
       "  'iso': '2025-10-17T17:00:00-06:00'},\n",
       " 'forecast': {'daily': {'pm10': [{'avg': 5,\n",
       "     'day': '2025-10-15',\n",
       "     'max': 5,\n",
       "     'min': 5},\n",
       "    {'avg': 8, 'day': '2025-10-16', 'max': 14, 'min': 4},\n",
       "    {'avg': 18, 'day': '2025-10-17', 'max': 24, 'min': 12},\n",
       "    {'avg': 18, 'day': '2025-10-18', 'max': 21, 'min': 15},\n",
       "    {'avg': 13, 'day': '2025-10-19', 'max': 19, 'min': 10},\n",
       "    {'avg': 13, 'day': '2025-10-20', 'max': 16, 'min': 7},\n",
       "    {'avg': 18, 'day': '2025-10-21', 'max': 29, 'min': 8},\n",
       "    {'avg': 24, 'day': '2025-10-22', 'max': 30, 'min': 21}],\n",
       "   'pm25': [{'avg': 8, 'day': '2025-10-15', 'max': 8, 'min': 7},\n",
       "    {'avg': 17, 'day': '2025-10-16', 'max': 32, 'min': 8},\n",
       "    {'avg': 34, 'day': '2025-10-17', 'max': 58, 'min': 22},\n",
       "    {'avg': 31, 'day': '2025-10-18', 'max': 40, 'min': 25},\n",
       "    {'avg': 23, 'day': '2025-10-19', 'max': 32, 'min': 17},\n",
       "    {'avg': 21, 'day': '2025-10-20', 'max': 26, 'min': 14},\n",
       "    {'avg': 45, 'day': '2025-10-21', 'max': 75, 'min': 18},\n",
       "    {'avg': 60, 'day': '2025-10-22', 'max': 72, 'min': 56}],\n",
       "   'uvi': [{'avg': 0, 'day': '2025-10-15', 'max': 2, 'min': 0},\n",
       "    {'avg': 0, 'day': '2025-10-16', 'max': 3, 'min': 0},\n",
       "    {'avg': 0, 'day': '2025-10-17', 'max': 5, 'min': 0},\n",
       "    {'avg': 0, 'day': '2025-10-18', 'max': 5, 'min': 0},\n",
       "    {'avg': 1, 'day': '2025-10-19', 'max': 5, 'min': 0}]}},\n",
       " 'debug': {'sync': '2025-10-18T08:43:52+09:00'}}"
      ]
     },
     "execution_count": 7,
     "metadata": {},
     "output_type": "execute_result"
    }
   ],
   "source": [
    "json_data = json_response['data']\n",
    "json_data"
   ]
  },
  {
   "cell_type": "code",
   "execution_count": 8,
   "id": "939a83fe-ecc2-4d69-80ba-eb1d1f5417a8",
   "metadata": {},
   "outputs": [
    {
     "data": {
      "text/plain": [
       "{'geo': [40.733501, -111.871696],\n",
       " 'name': 'Salt Lake City, Utah',\n",
       " 'url': 'https://aqicn.org/city/utah/salt-lake-city',\n",
       " 'location': ''}"
      ]
     },
     "execution_count": 8,
     "metadata": {},
     "output_type": "execute_result"
    }
   ],
   "source": [
    "json_loc = json_data['city']\n",
    "json_loc"
   ]
  },
  {
   "cell_type": "code",
   "execution_count": 9,
   "id": "b791cf6a-c2c5-459e-9f08-463bb67ac1f5",
   "metadata": {},
   "outputs": [
    {
     "data": {
      "text/plain": [
       "{'co': {'v': 0.4},\n",
       " 'h': {'v': 44},\n",
       " 'no2': {'v': 3.8},\n",
       " 'o3': {'v': 34.4},\n",
       " 'p': {'v': 1013.6},\n",
       " 'pm25': {'v': 21},\n",
       " 't': {'v': 6.66667},\n",
       " 'w': {'v': 1.6},\n",
       " 'wg': {'v': 5.3}}"
      ]
     },
     "execution_count": 9,
     "metadata": {},
     "output_type": "execute_result"
    }
   ],
   "source": [
    "json_aqi = json_data['iaqi']\n",
    "json_aqi"
   ]
  },
  {
   "cell_type": "code",
   "execution_count": 10,
   "id": "edaaf150-cd31-4a1b-8cab-e2db7ce11513",
   "metadata": {},
   "outputs": [
    {
     "data": {
      "text/plain": [
       "{'s': '2025-10-17 17:00:00',\n",
       " 'tz': '-06:00',\n",
       " 'v': 1760720400,\n",
       " 'iso': '2025-10-17T17:00:00-06:00'}"
      ]
     },
     "execution_count": 10,
     "metadata": {},
     "output_type": "execute_result"
    }
   ],
   "source": [
    "json_timestamp = json_data['time']\n",
    "json_timestamp"
   ]
  },
  {
   "cell_type": "code",
   "execution_count": 11,
   "id": "94bde509-52b2-4eb7-b36c-8d7eb7706a84",
   "metadata": {},
   "outputs": [
    {
     "data": {
      "text/plain": [
       "[0.4, 44, 3.8, 34.4, 1013.6, 21, 6.66667, 1.6, 5.3]"
      ]
     },
     "execution_count": 11,
     "metadata": {},
     "output_type": "execute_result"
    }
   ],
   "source": [
    "values = []\n",
    "headers = []\n",
    "\n",
    "for i in json_data['iaqi']:\n",
    "    headers.append(i)\n",
    "    values.append(json_aqi[i]['v'])\n",
    "\n",
    "values"
   ]
  },
  {
   "cell_type": "code",
   "execution_count": 12,
   "id": "fb9ac86d-6d53-45cc-a0a6-f0e3b609382b",
   "metadata": {},
   "outputs": [
    {
     "data": {
      "text/plain": [
       "['co', 'h', 'no2', 'o3', 'p', 'pm25', 't', 'w', 'wg']"
      ]
     },
     "execution_count": 12,
     "metadata": {},
     "output_type": "execute_result"
    }
   ],
   "source": [
    "headers"
   ]
  },
  {
   "cell_type": "code",
   "execution_count": 13,
   "id": "8e5f1fbe-c174-48df-bbda-c10beadb099a",
   "metadata": {},
   "outputs": [
    {
     "data": {
      "text/html": [
       "<div>\n",
       "<style scoped>\n",
       "    .dataframe tbody tr th:only-of-type {\n",
       "        vertical-align: middle;\n",
       "    }\n",
       "\n",
       "    .dataframe tbody tr th {\n",
       "        vertical-align: top;\n",
       "    }\n",
       "\n",
       "    .dataframe thead th {\n",
       "        text-align: right;\n",
       "    }\n",
       "</style>\n",
       "<table border=\"1\" class=\"dataframe\">\n",
       "  <thead>\n",
       "    <tr style=\"text-align: right;\">\n",
       "      <th></th>\n",
       "      <th>0</th>\n",
       "      <th>1</th>\n",
       "      <th>2</th>\n",
       "      <th>3</th>\n",
       "      <th>4</th>\n",
       "      <th>5</th>\n",
       "      <th>6</th>\n",
       "      <th>7</th>\n",
       "      <th>8</th>\n",
       "    </tr>\n",
       "  </thead>\n",
       "  <tbody>\n",
       "    <tr>\n",
       "      <th>0</th>\n",
       "      <td>0.4</td>\n",
       "      <td>44.0</td>\n",
       "      <td>3.8</td>\n",
       "      <td>34.4</td>\n",
       "      <td>1013.6</td>\n",
       "      <td>21.0</td>\n",
       "      <td>6.66667</td>\n",
       "      <td>1.6</td>\n",
       "      <td>5.3</td>\n",
       "    </tr>\n",
       "  </tbody>\n",
       "</table>\n",
       "</div>"
      ],
      "text/plain": [
       "     0     1    2     3       4     5        6    7    8\n",
       "0  0.4  44.0  3.8  34.4  1013.6  21.0  6.66667  1.6  5.3"
      ]
     },
     "execution_count": 13,
     "metadata": {},
     "output_type": "execute_result"
    }
   ],
   "source": [
    "df = pd.DataFrame(values).T\n",
    "df"
   ]
  },
  {
   "cell_type": "code",
   "execution_count": 14,
   "id": "cb368a0a-8544-4039-9aef-43fb58e7abce",
   "metadata": {},
   "outputs": [
    {
     "data": {
      "text/html": [
       "<div>\n",
       "<style scoped>\n",
       "    .dataframe tbody tr th:only-of-type {\n",
       "        vertical-align: middle;\n",
       "    }\n",
       "\n",
       "    .dataframe tbody tr th {\n",
       "        vertical-align: top;\n",
       "    }\n",
       "\n",
       "    .dataframe thead th {\n",
       "        text-align: right;\n",
       "    }\n",
       "</style>\n",
       "<table border=\"1\" class=\"dataframe\">\n",
       "  <thead>\n",
       "    <tr style=\"text-align: right;\">\n",
       "      <th></th>\n",
       "      <th>co</th>\n",
       "      <th>h</th>\n",
       "      <th>no2</th>\n",
       "      <th>o3</th>\n",
       "      <th>p</th>\n",
       "      <th>pm25</th>\n",
       "      <th>t</th>\n",
       "      <th>w</th>\n",
       "      <th>wg</th>\n",
       "    </tr>\n",
       "  </thead>\n",
       "  <tbody>\n",
       "    <tr>\n",
       "      <th>0</th>\n",
       "      <td>0.4</td>\n",
       "      <td>44.0</td>\n",
       "      <td>3.8</td>\n",
       "      <td>34.4</td>\n",
       "      <td>1013.6</td>\n",
       "      <td>21.0</td>\n",
       "      <td>6.66667</td>\n",
       "      <td>1.6</td>\n",
       "      <td>5.3</td>\n",
       "    </tr>\n",
       "  </tbody>\n",
       "</table>\n",
       "</div>"
      ],
      "text/plain": [
       "    co     h  no2    o3       p  pm25        t    w   wg\n",
       "0  0.4  44.0  3.8  34.4  1013.6  21.0  6.66667  1.6  5.3"
      ]
     },
     "execution_count": 14,
     "metadata": {},
     "output_type": "execute_result"
    }
   ],
   "source": [
    "df.columns = headers\n",
    "df"
   ]
  },
  {
   "cell_type": "code",
   "execution_count": 15,
   "id": "538e422d-5168-4264-8f7e-991f2c60b24b",
   "metadata": {},
   "outputs": [
    {
     "data": {
      "text/plain": [
       "'2025-10-17 17:00:00'"
      ]
     },
     "execution_count": 15,
     "metadata": {},
     "output_type": "execute_result"
    }
   ],
   "source": [
    "date_string = json_data['time']['s']\n",
    "date_string"
   ]
  },
  {
   "cell_type": "code",
   "execution_count": 16,
   "id": "5d170ae5-eab0-47cc-ad68-b6aa7803e8b5",
   "metadata": {},
   "outputs": [
    {
     "data": {
      "text/plain": [
       "datetime.datetime(2025, 10, 17, 17, 0)"
      ]
     },
     "execution_count": 16,
     "metadata": {},
     "output_type": "execute_result"
    }
   ],
   "source": [
    "format_string = \"%Y-%m-%d %H:%M:%S\"\n",
    "datetime_object = datetime.strptime(date_string, format_string)\n",
    "datetime_object"
   ]
  },
  {
   "cell_type": "code",
   "execution_count": 17,
   "id": "f23b8a00-072a-472e-91bf-15b1bd8b1d6d",
   "metadata": {},
   "outputs": [
    {
     "data": {
      "text/plain": [
       "datetime.datetime(2025, 10, 17, 16, 0)"
      ]
     },
     "execution_count": 17,
     "metadata": {},
     "output_type": "execute_result"
    }
   ],
   "source": [
    "#Convert to MST\n",
    "if json_data['time']['tz'] == '-06:00':\n",
    "    datetime_object = datetime_object - timedelta(hours=1)\n",
    "datetime_object"
   ]
  },
  {
   "cell_type": "code",
   "execution_count": 18,
   "id": "1b416f8a-4c72-48cd-8711-2934d15962b5",
   "metadata": {},
   "outputs": [
    {
     "data": {
      "text/plain": [
       "'2025-10-17 16:00:00'"
      ]
     },
     "execution_count": 18,
     "metadata": {},
     "output_type": "execute_result"
    }
   ],
   "source": [
    "#Convert timestamp back to string\n",
    "datetime_string = datetime_object.strftime('%Y-%m-%d %H:%M:%S')\n",
    "datetime_string"
   ]
  },
  {
   "cell_type": "code",
   "execution_count": 19,
   "id": "cdccfff3-d58c-418e-ac26-9e1257391ec7",
   "metadata": {},
   "outputs": [
    {
     "data": {
      "text/plain": [
       "['2025-10-17 16:00:00']"
      ]
     },
     "execution_count": 19,
     "metadata": {},
     "output_type": "execute_result"
    }
   ],
   "source": [
    "datetime_list = [datetime_string]\n",
    "datetime_list"
   ]
  },
  {
   "cell_type": "code",
   "execution_count": 20,
   "id": "db35137b-6316-47ca-9d88-e329a0c5accd",
   "metadata": {},
   "outputs": [
    {
     "data": {
      "text/html": [
       "<div>\n",
       "<style scoped>\n",
       "    .dataframe tbody tr th:only-of-type {\n",
       "        vertical-align: middle;\n",
       "    }\n",
       "\n",
       "    .dataframe tbody tr th {\n",
       "        vertical-align: top;\n",
       "    }\n",
       "\n",
       "    .dataframe thead th {\n",
       "        text-align: right;\n",
       "    }\n",
       "</style>\n",
       "<table border=\"1\" class=\"dataframe\">\n",
       "  <thead>\n",
       "    <tr style=\"text-align: right;\">\n",
       "      <th></th>\n",
       "      <th>timestamp</th>\n",
       "      <th>co</th>\n",
       "      <th>h</th>\n",
       "      <th>no2</th>\n",
       "      <th>o3</th>\n",
       "      <th>p</th>\n",
       "      <th>pm25</th>\n",
       "      <th>t</th>\n",
       "      <th>w</th>\n",
       "      <th>wg</th>\n",
       "    </tr>\n",
       "  </thead>\n",
       "  <tbody>\n",
       "    <tr>\n",
       "      <th>0</th>\n",
       "      <td>2025-10-17 16:00:00</td>\n",
       "      <td>0.4</td>\n",
       "      <td>44.0</td>\n",
       "      <td>3.8</td>\n",
       "      <td>34.4</td>\n",
       "      <td>1013.6</td>\n",
       "      <td>21.0</td>\n",
       "      <td>6.66667</td>\n",
       "      <td>1.6</td>\n",
       "      <td>5.3</td>\n",
       "    </tr>\n",
       "  </tbody>\n",
       "</table>\n",
       "</div>"
      ],
      "text/plain": [
       "             timestamp   co     h  no2    o3       p  pm25        t    w   wg\n",
       "0  2025-10-17 16:00:00  0.4  44.0  3.8  34.4  1013.6  21.0  6.66667  1.6  5.3"
      ]
     },
     "execution_count": 20,
     "metadata": {},
     "output_type": "execute_result"
    }
   ],
   "source": [
    "cols = df.columns.tolist()\n",
    "cols.insert(0, 'timestamp')\n",
    "df['timestamp'] = datetime_list\n",
    "df = df[cols]\n",
    "df"
   ]
  },
  {
   "cell_type": "code",
   "execution_count": 21,
   "id": "1e9536cd-27e3-441d-9a0d-4a61080a750b",
   "metadata": {},
   "outputs": [
    {
     "data": {
      "text/plain": [
       "['2025-10-17 16:00:00', 0.4, 44.0, 3.8, 34.4, 1013.6, 21.0, 6.66667, 1.6, 5.3]"
      ]
     },
     "execution_count": 21,
     "metadata": {},
     "output_type": "execute_result"
    }
   ],
   "source": [
    "new_data = df.iloc[0].tolist()\n",
    "new_data"
   ]
  },
  {
   "cell_type": "code",
   "execution_count": 22,
   "id": "2ae1c90f-9897-4e50-872e-9e42067a2f32",
   "metadata": {},
   "outputs": [],
   "source": [
    "def append_to_csv(file_path, data_row):\n",
    "    \"\"\"\n",
    "    Appends a single row of data to an existing CSV file.\n",
    "\n",
    "    Args:\n",
    "        file_path (str): The path to the CSV file.\n",
    "        data_row (list): A list representing the row of data to append.\n",
    "    \"\"\"\n",
    "    try:\n",
    "        with open(file_path, 'a', newline='') as csvfile:\n",
    "            writer = csv.writer(csvfile)\n",
    "            writer.writerow(data_row)\n",
    "        print(f\"Data '{data_row}' appended successfully to '{file_path}'.\")\n",
    "    except FileNotFoundError:\n",
    "        print(f\"Error: The file '{file_path}' was not found.\")\n",
    "    except Exception as e:\n",
    "        print(f\"An error occurred: {e}\")"
   ]
  },
  {
   "cell_type": "code",
   "execution_count": 23,
   "id": "65e6f56a-32c6-4d13-bcf2-8aebeda65639",
   "metadata": {},
   "outputs": [
    {
     "name": "stdout",
     "output_type": "stream",
     "text": [
      "             timestamp   co     h  no2    o3       p  pm25        t    w   wg\n",
      "0     10/15/2025 15:00  1.8  50.0  2.8  36.8  1006.7   6.0  10.5556  1.5  6.0\n",
      "1  2025-10-15 16:00:00  1.8  51.0  2.8  36.1  1006.9   8.0  10.5556  1.6  5.6\n",
      "2  2025-10-16 14:00:00  1.2  69.0  4.7  31.2  1015.1  13.0  20.5556  1.6  0.5\n",
      "3  2025-10-16 15:00:00  1.2  65.0  4.7  32.0  1015.2  18.0  18.3333  1.6  2.0\n",
      "4  2025-10-16 18:00:00  2.8  58.0  8.4  28.9  1015.6  16.0  14.4444  1.6  1.7\n"
     ]
    }
   ],
   "source": [
    "csv_file = 'AirQualityOpenData_API_dump.csv'\n",
    "\n",
    "#Check that this data call is new data by checking last timestamp\n",
    "df_existingdata = pd.read_csv(csv_file)\n",
    "print(df_existingdata.head())"
   ]
  },
  {
   "cell_type": "code",
   "execution_count": 24,
   "id": "96e37a9f-a7ae-490e-a62b-27b19cc9ba13",
   "metadata": {},
   "outputs": [
    {
     "name": "stdout",
     "output_type": "stream",
     "text": [
      "              timestamp   co     h  no2    o3       p  pm25        t    w   wg\n",
      "18  2025-10-17 16:00:00  0.4  44.0  3.8  34.4  1013.6  21.0  6.66667  1.6  5.3\n"
     ]
    }
   ],
   "source": [
    "print(df_existingdata.tail(1))"
   ]
  },
  {
   "cell_type": "code",
   "execution_count": 25,
   "id": "bd43be38-520f-4e70-afe3-0482bfab3001",
   "metadata": {},
   "outputs": [
    {
     "name": "stdout",
     "output_type": "stream",
     "text": [
      "2025-10-17 16:00:00\n"
     ]
    }
   ],
   "source": [
    "last_timestamp = df_existingdata.iloc[-1,0]\n",
    "print(last_timestamp)"
   ]
  },
  {
   "cell_type": "code",
   "execution_count": 26,
   "id": "085c201d-870b-4a60-8f62-b1e403291712",
   "metadata": {},
   "outputs": [
    {
     "name": "stdout",
     "output_type": "stream",
     "text": [
      "2025-10-17 16:00:00\n"
     ]
    }
   ],
   "source": [
    "#Turn last timestamp into datetime object\n",
    "format_string = \"%Y-%m-%d %H:%M:%S\"\n",
    "last_timestamp_object = datetime.strptime(last_timestamp, format_string)\n",
    "print(last_timestamp_object)"
   ]
  },
  {
   "cell_type": "code",
   "execution_count": 27,
   "id": "f49dbc61-c8e3-4d5f-af66-7d1a525df512",
   "metadata": {},
   "outputs": [
    {
     "name": "stdout",
     "output_type": "stream",
     "text": [
      "last_timestamp_object is not less than current timestamp\n"
     ]
    }
   ],
   "source": [
    "#If this hour's data is not yet appended to the csv file, append data.\n",
    "if last_timestamp_object < datetime_object:\n",
    "    append_to_csv(csv_file,new_data)\n",
    "else:\n",
    "    print('last_timestamp_object is not less than current timestamp')"
   ]
  },
  {
   "cell_type": "code",
   "execution_count": null,
   "id": "782b9545-88e6-42cb-88b5-806ac077ad6c",
   "metadata": {},
   "outputs": [],
   "source": []
  }
 ],
 "metadata": {
  "kernelspec": {
   "display_name": "Python 3 (ipykernel)",
   "language": "python",
   "name": "python3"
  },
  "language_info": {
   "codemirror_mode": {
    "name": "ipython",
    "version": 3
   },
   "file_extension": ".py",
   "mimetype": "text/x-python",
   "name": "python",
   "nbconvert_exporter": "python",
   "pygments_lexer": "ipython3",
   "version": "3.12.7"
  }
 },
 "nbformat": 4,
 "nbformat_minor": 5
}
