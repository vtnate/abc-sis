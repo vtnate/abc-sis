{
 "cells": [
  {
   "cell_type": "markdown",
   "id": "a92a8abf-3050-4bd0-90d6-0b0e5ed97f4b",
   "metadata": {},
   "source": [
    "# API request and csv appender for IQAir data"
   ]
  },
  {
   "cell_type": "code",
   "execution_count": 1,
   "id": "dd694449-a398-40a1-9c27-78695b8e03cc",
   "metadata": {},
   "outputs": [],
   "source": [
    "import pandas as pd\n",
    "import requests\n",
    "import json\n",
    "import csv\n",
    "from datetime import datetime, timedelta, timezone\n",
    "from zoneinfo import ZoneInfo\n",
    "import numpy as np\n",
    "import matplotlib.dates as mdates\n",
    "from matplotlib.dates import DateFormatter\n",
    "import feedparser #May need to add: !pip install feedparser prior to importing\n",
    "import re"
   ]
  },
  {
   "cell_type": "markdown",
   "id": "a5ae2290-e40c-4671-9eae-4df0cae666c4",
   "metadata": {},
   "source": [
    "Notes on data:\n",
    "- Data is directly from air.utah.gov's API, which uses rss feed for SLC\n",
    "- Website: https://air.utah.gov/airapi.html\n",
    "- You need a username to use the API."
   ]
  },
  {
   "cell_type": "code",
   "execution_count": 2,
   "id": "e62e2f6b-dce2-42c3-9142-b093fd3b5d31",
   "metadata": {},
   "outputs": [
    {
     "name": "stdout",
     "output_type": "stream",
     "text": [
      "Feed Title: Utah DEQ: DAQ: Current Conditions RSS Feed: slc\n",
      "\n",
      "Title: Salt Lake Current Conditions for 10/18/2025 00:00\n",
      "Link: https://air.utah.gov/currentconditions.php?id=slc\n",
      "Published Sat, 18 Oct 2025 02:44:30 -0600\n"
     ]
    }
   ],
   "source": [
    "rss_url = 'https://air.utah.gov/rssCurFeed.php?id=slc'\n",
    "feed = feedparser.parse(rss_url)\n",
    "\n",
    "if feed.status == 200:\n",
    "    print(f'Feed Title: {feed.feed.title}')\n",
    "    \n",
    "# Iterate through the entries (articles) in the feed\n",
    "    for entry in feed.entries:\n",
    "        print(f'\\nTitle: {entry.title}')\n",
    "        print(f'Link: {entry.link}')\n",
    "        print(f'Published {entry.published}')\n",
    "\n",
    "else:\n",
    "    print(f'Failed to retrieve RSS feed. Status code: {feed.status}')"
   ]
  },
  {
   "cell_type": "code",
   "execution_count": 3,
   "id": "1996b40d-7036-4086-ad38-ab5461a945b0",
   "metadata": {},
   "outputs": [
    {
     "name": "stdout",
     "output_type": "stream",
     "text": [
      "Description: Ozone: 0.015 ppm\n",
      "\n",
      "\t\t\t\t\tPM 2.5: 4.1 µg/m3\n",
      "\n",
      "\t\t\t\t\tTemperature: 45° F\n",
      "\n",
      "\t\t\t\t\tWind: SE 3 mph\n"
     ]
    }
   ],
   "source": [
    "if feed.status == 200:\n",
    "    print(f'Description: {entry.description}')"
   ]
  },
  {
   "cell_type": "code",
   "execution_count": 4,
   "id": "128d1aee-778e-4eb9-9036-67e2d84dfd1e",
   "metadata": {},
   "outputs": [
    {
     "name": "stdout",
     "output_type": "stream",
     "text": [
      "4.1\n"
     ]
    }
   ],
   "source": [
    "match = re.search(r'PM\\s*2\\.5:\\s*([\\d.]+)', entry.description)\n",
    "if match:\n",
    "    PM25value = float(match.group(1))\n",
    "    print(PM25value)"
   ]
  },
  {
   "cell_type": "code",
   "execution_count": 5,
   "id": "edaaf150-cd31-4a1b-8cab-e2db7ce11513",
   "metadata": {},
   "outputs": [
    {
     "data": {
      "text/plain": [
       "'10/18/2025 00:00'"
      ]
     },
     "execution_count": 5,
     "metadata": {},
     "output_type": "execute_result"
    }
   ],
   "source": [
    "match = re.search(r'(\\d{2}/\\d{2}/\\d{4} \\d{2}:\\d{2})', entry.title)\n",
    "if match:\n",
    "    datestr = match.group(1)\n",
    "datestr"
   ]
  },
  {
   "cell_type": "code",
   "execution_count": 6,
   "id": "90e154fc-cb64-4dd4-a549-0166c726226e",
   "metadata": {},
   "outputs": [
    {
     "name": "stdout",
     "output_type": "stream",
     "text": [
      "MT: 2025-10-18 00:00:00-06:00\n",
      "MST: 2025-10-17 23:00:00\n",
      "As a string: 2025-10-17 23:00:00\n"
     ]
    }
   ],
   "source": [
    "dt = datetime.strptime(datestr, '%m/%d/%Y %H:%M')\n",
    "# Define MST timezone (UTC-7 for standard time — no DST)\n",
    "MST = timezone(timedelta(hours=-7))\n",
    "\n",
    "# Convert to MT (auto DST handling)\n",
    "dt_mt = dt.replace(tzinfo=ZoneInfo(\"America/Denver\"))\n",
    "print(f'MT: {dt_mt}')\n",
    "\n",
    "# Convert to MST\n",
    "dt_mst = dt_mt.astimezone(MST)\n",
    "dt_mst_naive = dt_mst.replace(tzinfo=None)\n",
    "print(f'MST: {dt_mst_naive}')\n",
    "\n",
    "formatted = dt_mst.strftime('%Y-%m-%d %H:%M:%S')\n",
    "print(f'As a string: {formatted}')"
   ]
  },
  {
   "cell_type": "code",
   "execution_count": 7,
   "id": "94bde509-52b2-4eb7-b36c-8d7eb7706a84",
   "metadata": {},
   "outputs": [
    {
     "data": {
      "text/plain": [
       "['Timestamp', 'PM2.5 (ug/m3)']"
      ]
     },
     "execution_count": 7,
     "metadata": {},
     "output_type": "execute_result"
    }
   ],
   "source": [
    "headers = ['Timestamp','PM2.5 (ug/m3)']\n",
    "headers"
   ]
  },
  {
   "cell_type": "code",
   "execution_count": 8,
   "id": "8e5f1fbe-c174-48df-bbda-c10beadb099a",
   "metadata": {},
   "outputs": [
    {
     "data": {
      "text/html": [
       "<div>\n",
       "<style scoped>\n",
       "    .dataframe tbody tr th:only-of-type {\n",
       "        vertical-align: middle;\n",
       "    }\n",
       "\n",
       "    .dataframe tbody tr th {\n",
       "        vertical-align: top;\n",
       "    }\n",
       "\n",
       "    .dataframe thead th {\n",
       "        text-align: right;\n",
       "    }\n",
       "</style>\n",
       "<table border=\"1\" class=\"dataframe\">\n",
       "  <thead>\n",
       "    <tr style=\"text-align: right;\">\n",
       "      <th></th>\n",
       "      <th>0</th>\n",
       "      <th>1</th>\n",
       "    </tr>\n",
       "  </thead>\n",
       "  <tbody>\n",
       "    <tr>\n",
       "      <th>0</th>\n",
       "      <td>2025-10-17 23:00:00</td>\n",
       "      <td>4.1</td>\n",
       "    </tr>\n",
       "  </tbody>\n",
       "</table>\n",
       "</div>"
      ],
      "text/plain": [
       "                     0    1\n",
       "0  2025-10-17 23:00:00  4.1"
      ]
     },
     "execution_count": 8,
     "metadata": {},
     "output_type": "execute_result"
    }
   ],
   "source": [
    "df = pd.DataFrame([formatted, PM25value]).T\n",
    "df"
   ]
  },
  {
   "cell_type": "code",
   "execution_count": 9,
   "id": "cb368a0a-8544-4039-9aef-43fb58e7abce",
   "metadata": {},
   "outputs": [
    {
     "data": {
      "text/html": [
       "<div>\n",
       "<style scoped>\n",
       "    .dataframe tbody tr th:only-of-type {\n",
       "        vertical-align: middle;\n",
       "    }\n",
       "\n",
       "    .dataframe tbody tr th {\n",
       "        vertical-align: top;\n",
       "    }\n",
       "\n",
       "    .dataframe thead th {\n",
       "        text-align: right;\n",
       "    }\n",
       "</style>\n",
       "<table border=\"1\" class=\"dataframe\">\n",
       "  <thead>\n",
       "    <tr style=\"text-align: right;\">\n",
       "      <th></th>\n",
       "      <th>Timestamp</th>\n",
       "      <th>PM2.5 (ug/m3)</th>\n",
       "    </tr>\n",
       "  </thead>\n",
       "  <tbody>\n",
       "    <tr>\n",
       "      <th>0</th>\n",
       "      <td>2025-10-17 23:00:00</td>\n",
       "      <td>4.1</td>\n",
       "    </tr>\n",
       "  </tbody>\n",
       "</table>\n",
       "</div>"
      ],
      "text/plain": [
       "             Timestamp PM2.5 (ug/m3)\n",
       "0  2025-10-17 23:00:00           4.1"
      ]
     },
     "execution_count": 9,
     "metadata": {},
     "output_type": "execute_result"
    }
   ],
   "source": [
    "df.columns = headers\n",
    "df"
   ]
  },
  {
   "cell_type": "code",
   "execution_count": 10,
   "id": "1e9536cd-27e3-441d-9a0d-4a61080a750b",
   "metadata": {},
   "outputs": [
    {
     "data": {
      "text/plain": [
       "['2025-10-17 23:00:00', 4.1]"
      ]
     },
     "execution_count": 10,
     "metadata": {},
     "output_type": "execute_result"
    }
   ],
   "source": [
    "new_data = df.iloc[0].tolist()\n",
    "new_data"
   ]
  },
  {
   "cell_type": "code",
   "execution_count": 11,
   "id": "2ae1c90f-9897-4e50-872e-9e42067a2f32",
   "metadata": {},
   "outputs": [],
   "source": [
    "def append_to_csv(file_path, data_row):\n",
    "    \"\"\"\n",
    "    Appends a single row of data to an existing CSV file.\n",
    "\n",
    "    Args:\n",
    "        file_path (str): The path to the CSV file.\n",
    "        data_row (list): A list representing the row of data to append.\n",
    "    \"\"\"\n",
    "    try:\n",
    "        with open(file_path, 'a', newline='') as csvfile:\n",
    "            writer = csv.writer(csvfile)\n",
    "            writer.writerow(data_row)\n",
    "        print(f\"Data '{data_row}' appended successfully to '{file_path}'.\")\n",
    "    except FileNotFoundError:\n",
    "        print(f\"Error: The file '{file_path}' was not found.\")\n",
    "    except Exception as e:\n",
    "        print(f\"An error occurred: {e}\")"
   ]
  },
  {
   "cell_type": "code",
   "execution_count": 15,
   "id": "65e6f56a-32c6-4d13-bcf2-8aebeda65639",
   "metadata": {},
   "outputs": [
    {
     "name": "stdout",
     "output_type": "stream",
     "text": [
      "             Timestamp  PM2.5 (ug/m3)\n",
      "0  2025-10-17 21:00:00            4.5\n"
     ]
    }
   ],
   "source": [
    "csv_file = 'AirUtah_API_dump.csv'\n",
    "\n",
    "#Check that this data call is new data by checking last timestamp\n",
    "df_existingdata = pd.read_csv(csv_file)\n",
    "print(df_existingdata.head())"
   ]
  },
  {
   "cell_type": "code",
   "execution_count": 16,
   "id": "96e37a9f-a7ae-490e-a62b-27b19cc9ba13",
   "metadata": {},
   "outputs": [
    {
     "name": "stdout",
     "output_type": "stream",
     "text": [
      "             Timestamp  PM2.5 (ug/m3)\n",
      "0  2025-10-17 21:00:00            4.5\n"
     ]
    }
   ],
   "source": [
    "print(df_existingdata.tail(1))"
   ]
  },
  {
   "cell_type": "code",
   "execution_count": 17,
   "id": "bd43be38-520f-4e70-afe3-0482bfab3001",
   "metadata": {},
   "outputs": [
    {
     "name": "stdout",
     "output_type": "stream",
     "text": [
      "2025-10-17 21:00:00\n"
     ]
    }
   ],
   "source": [
    "last_timestamp = df_existingdata.iloc[-1,0]\n",
    "print(last_timestamp)"
   ]
  },
  {
   "cell_type": "code",
   "execution_count": 18,
   "id": "085c201d-870b-4a60-8f62-b1e403291712",
   "metadata": {},
   "outputs": [
    {
     "name": "stdout",
     "output_type": "stream",
     "text": [
      "2025-10-17 21:00:00\n"
     ]
    }
   ],
   "source": [
    "#Turn last timestamp into datetime object\n",
    "format_string = \"%Y-%m-%d %H:%M:%S\"\n",
    "last_timestamp_object = datetime.strptime(last_timestamp, format_string)\n",
    "print(last_timestamp_object)"
   ]
  },
  {
   "cell_type": "code",
   "execution_count": 19,
   "id": "f49dbc61-c8e3-4d5f-af66-7d1a525df512",
   "metadata": {},
   "outputs": [
    {
     "name": "stdout",
     "output_type": "stream",
     "text": [
      "Data '['2025-10-17 23:00:00', 4.1]' appended successfully to 'AirUtah_API_dump.csv'.\n"
     ]
    }
   ],
   "source": [
    "#If this hour's data is not yet appended to the csv file, append data.\n",
    "if last_timestamp_object < dt_mst_naive:\n",
    "    append_to_csv(csv_file,new_data)\n",
    "else:\n",
    "    print('last_timestamp_object is not less than current timestamp')"
   ]
  },
  {
   "cell_type": "code",
   "execution_count": null,
   "id": "782b9545-88e6-42cb-88b5-806ac077ad6c",
   "metadata": {},
   "outputs": [],
   "source": []
  }
 ],
 "metadata": {
  "kernelspec": {
   "display_name": "Python 3 (ipykernel)",
   "language": "python",
   "name": "python3"
  },
  "language_info": {
   "codemirror_mode": {
    "name": "ipython",
    "version": 3
   },
   "file_extension": ".py",
   "mimetype": "text/x-python",
   "name": "python",
   "nbconvert_exporter": "python",
   "pygments_lexer": "ipython3",
   "version": "3.12.7"
  }
 },
 "nbformat": 4,
 "nbformat_minor": 5
}
